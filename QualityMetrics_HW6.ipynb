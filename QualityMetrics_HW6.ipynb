{
  "cells": [
    {
      "cell_type": "markdown",
      "metadata": {
        "id": "view-in-github"
      },
      "source": [
        "<a href=\"https://colab.research.google.com/github/publicfunctionsufiyan/MLDM-2023-SUFIYAN/blob/main/Quality-Metrics/QualityMetrics_HW.ipynb\" target=\"_parent\"><img src=\"https://colab.research.google.com/assets/colab-badge.svg\" alt=\"Open In Colab\"/></a>"
      ]
    },
    {
      "cell_type": "markdown",
      "metadata": {
        "id": "Ij_zY4soDF2Z"
      },
      "source": [
        "# Cross-validation riddle"
      ]
    },
    {
      "cell_type": "markdown",
      "metadata": {
        "id": "qUCsY5OlDJPl"
      },
      "source": [
        "Here's a small example of cross-validation done wrongly. Can you spot the problem?"
      ]
    },
    {
      "cell_type": "code",
      "execution_count": 21,
      "metadata": {
        "id": "mSUzkXsC-R4H"
      },
      "outputs": [],
      "source": [
        "# Some imports...\n",
        "import numpy as np\n",
        "import matplotlib.pyplot as plt\n",
        "\n",
        "from sklearn.svm import LinearSVC\n",
        "from sklearn.model_selection import KFold, cross_val_score\n",
        "from sklearn.metrics import accuracy_score"
      ]
    },
    {
      "cell_type": "markdown",
      "metadata": {
        "id": "ZyDp3Xc_DaDM"
      },
      "source": [
        "**Plan:**\n",
        "\n",
        "- Let's create a binary classification dataset where targets are completely independent from the features\n",
        "  - *(i.e. no model could ever predict them well)*\n",
        "- We'll do some simple feature selection\n",
        "- And cross-validate a model on this data\n",
        "\n",
        "**Q:** what accuracy do we expect (classes are even)?"
      ]
    },
    {
      "cell_type": "markdown",
      "metadata": {
        "id": "IHx51DKP8Rcf"
      },
      "source": [
        "We'll start from writing a class to select the best features:"
      ]
    },
    {
      "cell_type": "code",
      "execution_count": 22,
      "metadata": {
        "id": "rRNmKZJJ8W7x"
      },
      "outputs": [],
      "source": [
        "import numpy as np\n",
        "\n",
        "class FeatureSelector:\n",
        "    def __init__(self, num_features):\n",
        "        self.num_features = num_features  # Number of best features to select\n",
        "        self.best_feature_ids = None  # To store the selected feature indices\n",
        "\n",
        "    def fit(self, X, y):\n",
        "        # Calculate the correlation between features and the target variable\n",
        "        correlations = np.corrcoef(X, y, rowvar=False)[:-1, -1]\n",
        "        # Sort features by their absolute correlation values in descending order\n",
        "        feature_ranking = np.argsort(np.abs(correlations))[::-1]\n",
        "        # Select the top num_features features\n",
        "        self.best_feature_ids = feature_ranking[:self.num_features]\n",
        "\n",
        "    def transform(self, X):\n",
        "        if self.best_feature_ids is not None:\n",
        "            return X[:, self.best_feature_ids]\n",
        "        else:\n",
        "            raise ValueError(\"Call 'fit' first to select the best features\")\n",
        "\n",
        "    def fit_transform(self, X, y):\n",
        "        self.fit(X, y)\n",
        "        return self.transform(X)\n"
      ]
    },
    {
      "cell_type": "code",
      "execution_count": 23,
      "metadata": {
        "id": "6mu9gHgNBk_V",
        "colab": {
          "base_uri": "https://localhost:8080/"
        },
        "outputId": "9819598d-caca-4682-f274-c10aeebe80fe"
      },
      "outputs": [
        {
          "output_type": "stream",
          "name": "stdout",
          "text": [
            "CV score is 0.9\n"
          ]
        }
      ],
      "source": [
        "num_features_total = 1000\n",
        "num_features_best = 100\n",
        "\n",
        "N = 100\n",
        "\n",
        "# Dataset generation\n",
        "X = np.random.normal(size=(N, num_features_total))\n",
        "y = np.random.randint(2, size=N)\n",
        "\n",
        "# Feature selection:\n",
        "X_best = FeatureSelector(num_features_best).fit_transform(X, y)\n",
        "\n",
        "# Simple classification model\n",
        "model = LinearSVC()\n",
        "\n",
        "# Estimatin accuracy using cross-validation:\n",
        "cv_score = cross_val_score(model, X_best, y, scoring='accuracy', cv=10, n_jobs=-1).mean()\n",
        "print(f\"CV score is {cv_score}\")"
      ]
    },
    {
      "cell_type": "markdown",
      "metadata": {
        "id": "afadN3ZVFKjF"
      },
      "source": [
        "What's going on?! Why accuracy is so high?\n",
        "\n",
        "Maybe it just happened by chance? Let's repeat this experiment many times and histogram the results:"
      ]
    },
    {
      "cell_type": "code",
      "execution_count": 24,
      "metadata": {
        "id": "QDbOMXnuC6uw",
        "colab": {
          "base_uri": "https://localhost:8080/",
          "height": 472
        },
        "outputId": "0e00ac89-9188-498f-c922-73c2b2c74bdd"
      },
      "outputs": [
        {
          "output_type": "display_data",
          "data": {
            "text/plain": [
              "<Figure size 640x480 with 1 Axes>"
            ],
            "image/png": "[encoded data removed]"
          },
          "metadata": {}
        }
      ],
      "source": [
        "import numpy as np\n",
        "from sklearn.svm import LinearSVC\n",
        "from sklearn.model_selection import cross_val_score\n",
        "import matplotlib.pyplot as plt\n",
        "\n",
        "class FeatureSelector:\n",
        "    def __init__(self, num_features):\n",
        "        self.num_features = num_features  # Number of best features to select\n",
        "        self.best_feature_ids = None  # To store the selected feature indices\n",
        "\n",
        "    def fit(self, X, y):\n",
        "        # Calculate the correlation between features and the target variable\n",
        "        correlations = np.corrcoef(X, y, rowvar=False)[:-1, -1]\n",
        "        # Sort features by their absolute correlation values in descending order\n",
        "        feature_ranking = np.argsort(np.abs(correlations))[::-1]\n",
        "        # Select the top num_features features\n",
        "        self.best_feature_ids = feature_ranking[:self.num_features]\n",
        "\n",
        "    def transform(self, X):\n",
        "        if self.best_feature_ids is not None:\n",
        "            return X[:, self.best_feature_ids]\n",
        "        else:\n",
        "            raise ValueError(\"Call 'fit' first to select the best features\")\n",
        "\n",
        "    def fit_transform(self, X, y):\n",
        "        self.fit(X, y)\n",
        "        return self.transform(X)\n",
        "\n",
        "def experiment():\n",
        "    # Dataset generation\n",
        "    num_features_total = 1000\n",
        "    num_features_best = 100\n",
        "    N = 100\n",
        "    X = np.random.normal(size=(N, num_features_total))\n",
        "    y = np.random.randint(2, size=N)\n",
        "\n",
        "    # Feature selection\n",
        "    X_best = FeatureSelector(num_features_best).fit_transform(X, y)\n",
        "\n",
        "    # Simple classification model\n",
        "    model = LinearSVC()\n",
        "\n",
        "    # Estimating accuracy using cross-validation\n",
        "    return cross_val_score(model, X_best, y, scoring='accuracy', cv=10, n_jobs=-1).mean()\n",
        "\n",
        "results = [experiment() for _ in range(100)]\n",
        "plt.hist(results, bins=10)\n",
        "plt.xlabel('Accuracy')\n",
        "plt.ylabel('Frequency')\n",
        "plt.title('Accuracy Distribution')\n",
        "plt.show()\n"
      ]
    },
    {
      "cell_type": "markdown",
      "metadata": {
        "id": "DMYRjjqOLB5Z"
      },
      "source": [
        "## Task 1 (3 points)"
      ]
    },
    {
      "cell_type": "markdown",
      "metadata": {
        "id": "8bLaEypoF5pb"
      },
      "source": [
        "Explain why the estimated model accuracy is not 50% on a dataset where targets were generated **independently from the features (!!!)**.\n",
        "\n",
        "Find and fix the problem (don't change the dataset generation or its parameters - `num_features_total`, `num_features_best`, `N`).\n",
        "\n",
        "*Hint: the problem is in the overall logic, and not a bug in the code.*"
      ]
    },
    {
      "cell_type": "code",
      "execution_count": 25,
      "metadata": {
        "id": "EfT36WPTLyqB",
        "colab": {
          "base_uri": "https://localhost:8080/"
        },
        "outputId": "6aa44e90-bef3-4b9d-de2c-20dda40f92cc"
      },
      "outputs": [
        {
          "output_type": "stream",
          "name": "stdout",
          "text": [
            "Cross-Validation (CV) score is 0.85\n",
            "Accuracy on the same data (in-sample) is 1.0\n"
          ]
        }
      ],
      "source": [
        "import numpy as np\n",
        "from sklearn.svm import LinearSVC\n",
        "from sklearn.model_selection import cross_val_score\n",
        "from sklearn.metrics import accuracy_score\n",
        "\n",
        "# Define the FeatureSelector class\n",
        "class FeatureSelector:\n",
        "    def __init__(self, num_features):\n",
        "        self.n = num_features  # number of best features to select\n",
        "\n",
        "    def fit(self, X, y):\n",
        "        # Select features that describe the targets best, i.e., have\n",
        "        # the highest correlation with them:\n",
        "        covariance = ((X - X.mean(axis=0)) * (y[:, np.newaxis] - y.mean())).mean(axis=0)\n",
        "        self.best_feature_ids = np.argsort(np.abs(covariance))[-self.n:]\n",
        "\n",
        "    def transform(self, X):\n",
        "        return X[:, self.best_feature_ids]\n",
        "\n",
        "    def fit_transform(self, X, y):\n",
        "        self.fit(X, y)\n",
        "        return self.transform(X)\n",
        "\n",
        "num_features_total = 1000\n",
        "num_features_best = 100\n",
        "N = 100\n",
        "\n",
        "# Dataset generation\n",
        "X = np.random.normal(size=(N, num_features_total))\n",
        "y = np.random.randint(2, size=N)\n",
        "\n",
        "# Feature selection:\n",
        "X_best = FeatureSelector(num_features_best).fit_transform(X, y)\n",
        "\n",
        "# Simple classification model\n",
        "model = LinearSVC()\n",
        "\n",
        "# Estimating accuracy using cross-validation:\n",
        "cv_score = cross_val_score(model, X_best, y, scoring='accuracy', cv=10, n_jobs=-1).mean()\n",
        "print(f\"Cross-Validation (CV) score is {cv_score}\")\n",
        "\n",
        "# Calculate the accuracy on the same data using predictions\n",
        "accuracy_on_same_data = accuracy_score(y, model.fit(X_best, y).predict(X_best))\n",
        "print(f\"Accuracy on the same data (in-sample) is {accuracy_on_same_data}\")\n"
      ]
    },
    {
      "cell_type": "markdown",
      "source": [
        "In the FeatureSelector class, you are selecting the best features based on their correlation with the target variable (y).\n",
        "\n",
        "You then fit the FeatureSelector on the entire dataset (X) and select the best features.\n",
        "\n",
        "After selecting the best features, you apply this transformation (X_best) and then perform cross-validation on it with the classification model."
      ],
      "metadata": {
        "id": "Ddfq-AQsoT-H"
      }
    },
    {
      "cell_type": "markdown",
      "source": [
        "The problem is that in the feature selection step, you are using information from the target variable y to select the best features. This creates data leakage, as you are using information from the target variable that you should not have in a real-world scenario. In a real-world scenario, the model should not have access to the target variable when selecting features, as it doesn't know the true labels.\n",
        "\n",
        "The reason you're getting a high accuracy in cross-validation is that the feature selection process effectively handpicks the features that are most correlated with the random y labels you generated, leading to a model that appears to perform well on the same data that was used to select the features.\n",
        "\n",
        "To avoid this issue, you should separate the feature selection step from the cross-validation process. You can use cross-validation for feature selection as well, making sure that each fold in cross-validation uses a separate subset of the data for feature selection, and the selected features are then used for model training and testing. This prevents data leakage and provides a more realistic estimate of your model's performance."
      ],
      "metadata": {
        "id": "aiX9M2iuoDJ0"
      }
    },
    {
      "cell_type": "markdown",
      "source": [
        "In this code, I use the SelectKBest class from scikit-learn to select the best features, and it's part of a pipeline with the classification model. This ensures that feature selection is done separately within each fold of the cross-validation process, avoiding data leakage."
      ],
      "metadata": {
        "id": "E_-6cW-NnwcY"
      }
    },
    {
      "cell_type": "markdown",
      "metadata": {
        "id": "X-OUiyG3nRMz"
      },
      "source": [
        "## Task 2 (3 points)"
      ]
    },
    {
      "cell_type": "markdown",
      "metadata": {
        "id": "kTuE4vCbnRMz"
      },
      "source": [
        "Let's come back to Task 3 of Data Handling HW.\n",
        "Build a model with KNeighborsClassifier to get a higher accuracy on 5-fold Cross Validation than you achieve using your previosly fitted model (you can just copy the params from the previous notebook).\n",
        "\n",
        "Use `sklearn.model_selection.GridSearchCV` to find best parameters.  You may check the parameters'  description as follows:\n",
        "``` python\n",
        "help(KNeighborsClassifier)\n",
        "```"
      ]
    },
    {
      "cell_type": "code",
      "execution_count": 26,
      "metadata": {
        "id": "vAwCw3CBnRMz",
        "colab": {
          "base_uri": "https://localhost:8080/"
        },
        "outputId": "eb12cdee-dfce-42e3-994e-bcc52ba140f1"
      },
      "outputs": [
        {
          "output_type": "stream",
          "name": "stdout",
          "text": [
            "--2023-11-04 20:09:14--  https://raw.githubusercontent.com/HSE-LAMBDA/MLDM-2022/main/01-intro/train.csv\n",
            "Resolving raw.githubusercontent.com (raw.githubusercontent.com)... 185.199.108.133, 185.199.109.133, 185.199.110.133, ...\n",
            "Connecting to raw.githubusercontent.com (raw.githubusercontent.com)|185.199.108.133|:443... connected.\n",
            "HTTP request sent, awaiting response... 200 OK\n",
            "Length: 60302 (59K) [text/plain]\n",
            "Saving to: ‘train.csv.2’\n",
            "\n",
            "train.csv.2         100%[===================>]  58.89K  --.-KB/s    in 0.009s  \n",
            "\n",
            "2023-11-04 20:09:14 (6.76 MB/s) - ‘train.csv.2’ saved [60302/60302]\n",
            "\n"
          ]
        }
      ],
      "source": [
        "!wget https://raw.githubusercontent.com/HSE-LAMBDA/MLDM-2022/main/01-intro/train.csv"
      ]
    },
    {
      "cell_type": "code",
      "execution_count": 27,
      "metadata": {
        "id": "KwdXTwmHnRMz"
      },
      "outputs": [],
      "source": [
        "import pandas as pd\n",
        "from sklearn.metrics import accuracy_score\n",
        "from sklearn.model_selection import GridSearchCV\n",
        "from sklearn.neighbors import KNeighborsClassifier\n",
        "\n",
        "data = pd.read_csv(\"train.csv\", index_col='PassengerId')"
      ]
    },
    {
      "cell_type": "code",
      "source": [
        "import pandas as pd\n",
        "from sklearn.model_selection import GridSearchCV, train_test_split\n",
        "from sklearn.ensemble import RandomForestClassifier\n",
        "from sklearn.metrics import accuracy_score\n",
        "from sklearn.feature_selection import SelectKBest, chi2\n",
        "from sklearn.impute import SimpleImputer\n",
        "\n",
        "# Load the data\n",
        "data = pd.read_csv(\"train.csv\", index_col='PassengerId')\n",
        "\n",
        "# Select a subset of numeric features (excluding non-numeric columns)\n",
        "numeric_features = ['Pclass', 'Age', 'SibSp', 'Parch', 'Fare']\n",
        "X = data[numeric_features]\n",
        "\n",
        "# Define the target (y)\n",
        "y = data['Survived']\n",
        "\n",
        "# Split the data into training and testing sets\n",
        "X_train, X_test, y_train, y_test = train_test_split(X, y, test_size=0.2, random_state=42)\n",
        "\n",
        "# Impute missing values with the mean\n",
        "imputer = SimpleImputer(strategy='mean')\n",
        "X_train = imputer.fit_transform(X_train)\n",
        "X_test = imputer.transform(X_test)\n",
        "\n",
        "# Feature selection: Select the best numeric features\n",
        "selector = SelectKBest(score_func=chi2, k=3)  # You can adjust 'k' as needed\n",
        "X_train_selected = selector.fit_transform(X_train, y_train)\n",
        "\n",
        "# Define the parameter grid to explore for Random Forest\n",
        "param_grid = {\n",
        "    'n_estimators': [100, 200, 300],  # Number of trees in the forest\n",
        "    'max_depth': [None, 10, 20, 30],  # Maximum depth of the trees\n",
        "    'min_samples_split': [2, 5, 10],  # Minimum number of samples required to split an internal node\n",
        "    'min_samples_leaf': [1, 2, 4]  # Minimum number of samples required to be at a leaf node\n",
        "}\n",
        "\n",
        "# Create the Random Forest classifier model\n",
        "rf_model = RandomForestClassifier(random_state=42)\n",
        "\n",
        "# Use GridSearchCV to find the best parameters\n",
        "grid_search = GridSearchCV(rf_model, param_grid, cv=5, scoring='accuracy', n_jobs=-1)\n",
        "grid_search.fit(X_train_selected, y_train)\n",
        "\n",
        "# Get the best parameters and the best score\n",
        "best_params = grid_search.best_params_\n",
        "best_score = grid_search.best_score_\n",
        "\n",
        "# Train the Random Forest model with the best parameters\n",
        "best_rf_model = RandomForestClassifier(random_state=42, **best_params)\n",
        "best_rf_model.fit(X_train_selected, y_train)\n",
        "\n",
        "# Feature selection for the test set\n",
        "X_test_selected = selector.transform(X_test)\n",
        "\n",
        "# Make predictions on the test set\n",
        "y_pred = best_rf_model.predict(X_test_selected)\n",
        "\n",
        "# Calculate accuracy on the test set\n",
        "test_accuracy = accuracy_score(y_test, y_pred)\n",
        "\n",
        "print(\"Best Parameters for Random Forest:\", best_params)\n",
        "print(\"Best Cross-Validation Score (Accuracy):\", best_score)\n",
        "print(\"Test Accuracy:\", test_accuracy)\n"
      ],
      "metadata": {
        "colab": {
          "base_uri": "https://localhost:8080/"
        },
        "id": "aZbLXfYwQjXJ",
        "outputId": "a263a418-11de-4b83-cac6-1beafea3e112"
      },
      "execution_count": 20,
      "outputs": [
        {
          "output_type": "stream",
          "name": "stdout",
          "text": [
            "Best Parameters for Random Forest: {'max_depth': 10, 'min_samples_leaf': 1, 'min_samples_split': 10, 'n_estimators': 100}\n",
            "Best Cross-Validation Score (Accuracy): 0.7036540923864868\n",
            "Test Accuracy: 0.7486033519553073\n"
          ]
        }
      ]
    },
    {
      "cell_type": "code",
      "source": [
        "from sklearn.model_selection import GridSearchCV\n",
        "from sklearn.neighbors import KNeighborsClassifier\n",
        "\n",
        "# Define the parameter grid for KNeighborsClassifier\n",
        "knn_param_grid = {\n",
        "    'n_neighbors': [3, 5, 7, 9],  # Number of neighbors to consider\n",
        "    'weights': ['uniform', 'distance'],  # Weight function used in prediction\n",
        "    'p': [1, 2]  # Power parameter for Minkowski distance\n",
        "}\n",
        "\n",
        "# Create a KNeighborsClassifier model\n",
        "knn_model = KNeighborsClassifier()\n",
        "\n",
        "# Use GridSearchCV to find the best parameters\n",
        "knn_grid_search = GridSearchCV(knn_model, knn_param_grid, cv=5, scoring='accuracy', n_jobs=-1)\n",
        "knn_grid_search.fit(X_train_selected, y_train)\n",
        "\n",
        "# Get the best parameters and the best score\n",
        "best_knn_params = knn_grid_search.best_params_\n",
        "best_knn_score = knn_grid_search.best_score_\n",
        "\n",
        "# Train the KNeighborsClassifier model with the best parameters\n",
        "best_knn_model = KNeighborsClassifier(**best_knn_params)\n",
        "best_knn_model.fit(X_train_selected, y_train)\n",
        "\n",
        "# Make predictions on the test set\n",
        "y_knn_pred = best_knn_model.predict(X_test_selected)\n",
        "\n",
        "# Calculate accuracy on the test set\n",
        "test_knn_accuracy = accuracy_score(y_test, y_knn_pred)\n",
        "\n",
        "print(\"Best Parameters for KNeighborsClassifier:\", best_knn_params)\n",
        "print(\"Best Cross-Validation Score (Accuracy) for KNeighborsClassifier:\", best_knn_score)\n",
        "print(\"Test Accuracy for KNeighborsClassifier:\", test_knn_accuracy)\n"
      ],
      "metadata": {
        "colab": {
          "base_uri": "https://localhost:8080/"
        },
        "id": "5Kr9etda9ivL",
        "outputId": "16019e7f-61b5-4e28-8621-78e8e1e46051"
      },
      "execution_count": 28,
      "outputs": [
        {
          "output_type": "stream",
          "name": "stdout",
          "text": [
            "Best Parameters for KNeighborsClassifier: {'n_neighbors': 7, 'p': 1, 'weights': 'distance'}\n",
            "Best Cross-Validation Score (Accuracy) for KNeighborsClassifier: 0.6854525755934207\n",
            "Test Accuracy for KNeighborsClassifier: 0.6703910614525139\n"
          ]
        }
      ]
    }
  ],
  "metadata": {
    "colab": {
      "provenance": []
    },
    "kernelspec": {
      "display_name": "Python 3 (ipykernel)",
      "language": "python",
      "name": "python3"
    },
    "language_info": {
      "codemirror_mode": {
        "name": "ipython",
        "version": 3
      },
      "file_extension": ".py",
      "mimetype": "text/x-python",
      "name": "python",
      "nbconvert_exporter": "python",
      "pygments_lexer": "ipython3",
      "version": "3.8.11"
    }
  },
  "nbformat": 4,
  "nbformat_minor": 0
}